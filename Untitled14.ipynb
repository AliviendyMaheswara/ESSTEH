{
 "cells": [
  {
   "cell_type": "code",
   "execution_count": 7,
   "id": "208662d9-d606-4ac7-8167-99a01fda0ef4",
   "metadata": {},
   "outputs": [
    {
     "name": "stdin",
     "output_type": "stream",
     "text": [
      "masukan nilai:  A-\n"
     ]
    },
    {
     "name": "stdout",
     "output_type": "stream",
     "text": [
      "A- = 3,75\n"
     ]
    },
    {
     "name": "stdin",
     "output_type": "stream",
     "text": [
      "masukan nilai:  B+\n"
     ]
    },
    {
     "name": "stdout",
     "output_type": "stream",
     "text": [
      "B+ = 3,50\n"
     ]
    },
    {
     "name": "stdin",
     "output_type": "stream",
     "text": [
      "masukan nilai:  a\n"
     ]
    },
    {
     "name": "stdout",
     "output_type": "stream",
     "text": [
      "A = 4,00\n"
     ]
    },
    {
     "name": "stdin",
     "output_type": "stream",
     "text": [
      "masukan nilai:  i\n",
      "masukan nilai:  \n"
     ]
    },
    {
     "name": "stdout",
     "output_type": "stream",
     "text": [
      "3.75\n"
     ]
    }
   ],
   "source": [
    "bobot=0\n",
    "rata_rata=0\n",
    "while True:\n",
    "    nilai=str(input('masukan nilai: '))\n",
    "    nilai = nilai.upper()\n",
    "    if nilai == 'A':\n",
    "        print('A = 4,00')\n",
    "        bobot+=4.00\n",
    "    elif nilai == 'A-':\n",
    "        rata_rata+=1\n",
    "        print('A- = 3,75')\n",
    "        bobot+=3.75\n",
    "        rata_rata+=1\n",
    "    elif nilai == 'B+':\n",
    "        bobot+=3.50\n",
    "        print('B+ = 3,50')\n",
    "        rata_rata+=1\n",
    "    elif nilai == 'B':\n",
    "        print('B = 3,00')\n",
    "        bobot+=3.00\n",
    "        rata_rata+=1\n",
    "    elif nilai == 'B-':\n",
    "        print('B- = 2,75')\n",
    "        bobot+=2.75\n",
    "        rata_rata+=1\n",
    "    elif nilai == 'C+':\n",
    "        bobot+=2.50\n",
    "        print('C+ = 2,50')\n",
    "        rata_rata+=1\n",
    "    elif nilai == 'C':\n",
    "        print('C = 2,00')\n",
    "        bobot+=2.00\n",
    "        rata_rata+=1\n",
    "    elif nilai == 'C-':\n",
    "        bobot+=1.75\n",
    "        print('C- = 1,75')\n",
    "        rata_rata+=1\n",
    "    elif nilai == 'D':\n",
    "        print('D = 1,50')\n",
    "        bobot+=1.50\n",
    "        rata_rata+=1\n",
    "    elif nilai == 'E':\n",
    "        print('E = 1,25')\n",
    "        bobot+=1.25\n",
    "        rata_rata+=1\n",
    "    elif nilai == '':\n",
    "        print(bobot/rata_rata)\n",
    "        break\n",
    "\n"
   ]
  },
  {
   "cell_type": "code",
   "execution_count": 9,
   "id": "c0886ec6-0db2-4c1c-8e6d-47a4c821dcd2",
   "metadata": {},
   "outputs": [
    {
     "name": "stdin",
     "output_type": "stream",
     "text": [
      "Masukkan umur pengunjung (atau -1 untuk keluar):  2\n"
     ]
    },
    {
     "name": "stdout",
     "output_type": "stream",
     "text": [
      "Harga tiket untuk umur 2 tahun adalah $0\n"
     ]
    },
    {
     "name": "stdin",
     "output_type": "stream",
     "text": [
      "Masukkan umur pengunjung (atau -1 untuk keluar):  10\n"
     ]
    },
    {
     "name": "stdout",
     "output_type": "stream",
     "text": [
      "Harga tiket untuk umur 10 tahun adalah $14\n"
     ]
    },
    {
     "name": "stdin",
     "output_type": "stream",
     "text": [
      "Masukkan umur pengunjung (atau -1 untuk keluar):  32\n"
     ]
    },
    {
     "name": "stdout",
     "output_type": "stream",
     "text": [
      "Harga tiket untuk umur 32 tahun adalah $23\n"
     ]
    },
    {
     "name": "stdin",
     "output_type": "stream",
     "text": [
      "Masukkan umur pengunjung (atau -1 untuk keluar):  100\n"
     ]
    },
    {
     "name": "stdout",
     "output_type": "stream",
     "text": [
      "Harga tiket untuk umur 100 tahun adalah $18\n"
     ]
    },
    {
     "name": "stdin",
     "output_type": "stream",
     "text": [
      "Masukkan umur pengunjung (atau -1 untuk keluar):  -1\n"
     ]
    },
    {
     "name": "stdout",
     "output_type": "stream",
     "text": [
      "\n",
      "Total keseluruhan harga tiket: $55\n"
     ]
    },
    {
     "name": "stdin",
     "output_type": "stream",
     "text": [
      "Masukkan jumlah uang yang dibayarkan:  100\n"
     ]
    },
    {
     "name": "stdout",
     "output_type": "stream",
     "text": [
      "Kembalian Anda adalah: $45.00\n"
     ]
    }
   ],
   "source": [
    "def hitung_tiket():\n",
    "    total_harga = 0\n",
    "    while True:\n",
    "        # Input umur pengunjung\n",
    "        umur = int(input(\"Masukkan umur pengunjung (atau -1 untuk keluar): \"))\n",
    "        \n",
    "        # Jika pengguna memasukkan -1, keluar dari perulangan\n",
    "        if umur == -1:\n",
    "            break\n",
    "        \n",
    "        # Menentukan harga tiket berdasarkan umur\n",
    "        if umur <= 2:\n",
    "            harga = 0\n",
    "        elif 3 <= umur <= 12:\n",
    "            harga = 14\n",
    "        elif umur >= 65:\n",
    "            harga = 18\n",
    "        else:\n",
    "            harga = 23\n",
    "        \n",
    "        total_harga += harga\n",
    "        print(f\"Harga tiket untuk umur {umur} tahun adalah ${harga}\")\n",
    "\n",
    "    # Menampilkan total harga\n",
    "    print(f\"\\nTotal keseluruhan harga tiket: ${total_harga}\")\n",
    "    \n",
    "    # Menghitung pembayaran\n",
    "    while True:\n",
    "        pembayaran = float(input(\"Masukkan jumlah uang yang dibayarkan: \"))\n",
    "        if pembayaran >= total_harga:\n",
    "            kembalian = pembayaran - total_harga\n",
    "            print(f\"Kembalian Anda adalah: ${kembalian:.2f}\")\n",
    "            break\n",
    "        else:\n",
    "            print(\"Uang yang dibayarkan tidak cukup, silakan masukkan ulang.\")\n",
    "\n",
    "# Memanggil fungsi untuk menjalankan program\n",
    "hitung_tiket()\n"
   ]
  },
  {
   "cell_type": "code",
   "execution_count": null,
   "id": "17ff7c83-c6e6-48ee-88fc-7df222624969",
   "metadata": {},
   "outputs": [],
   "source": []
  }
 ],
 "metadata": {
  "kernelspec": {
   "display_name": "Python 3 (ipykernel)",
   "language": "python",
   "name": "python3"
  },
  "language_info": {
   "codemirror_mode": {
    "name": "ipython",
    "version": 3
   },
   "file_extension": ".py",
   "mimetype": "text/x-python",
   "name": "python",
   "nbconvert_exporter": "python",
   "pygments_lexer": "ipython3",
   "version": "3.12.4"
  }
 },
 "nbformat": 4,
 "nbformat_minor": 5
}
